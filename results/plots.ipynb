{
 "metadata": {
  "name": "",
  "signature": "sha256:e8261507c5db556ae9b4d87c9db984845d4c22cec8bf263178420f44aa07d15c"
 },
 "nbformat": 3,
 "nbformat_minor": 0,
 "worksheets": [
  {
   "cells": [
    {
     "cell_type": "code",
     "collapsed": false,
     "input": [
      "%matplotlib inline"
     ],
     "language": "python",
     "metadata": {},
     "outputs": []
    },
    {
     "cell_type": "code",
     "collapsed": false,
     "input": [
      "import matplotlib.pyplot as plt"
     ],
     "language": "python",
     "metadata": {},
     "outputs": []
    },
    {
     "cell_type": "code",
     "collapsed": false,
     "input": [
      "ls"
     ],
     "language": "python",
     "metadata": {},
     "outputs": []
    },
    {
     "cell_type": "code",
     "collapsed": false,
     "input": [
      "import seaborn as sns"
     ],
     "language": "python",
     "metadata": {},
     "outputs": []
    },
    {
     "cell_type": "code",
     "collapsed": false,
     "input": [
      "result_files = !ls *_results_*.csv"
     ],
     "language": "python",
     "metadata": {},
     "outputs": []
    },
    {
     "cell_type": "code",
     "collapsed": false,
     "input": [
      "def reader(filename):\n",
      "    return pd.read_csv(filename, index_col=[0], header=[0, 1])"
     ],
     "language": "python",
     "metadata": {},
     "outputs": []
    },
    {
     "cell_type": "code",
     "collapsed": false,
     "input": [
      "def get_core_count(x):\n",
      "    return int(os.path.splitext(x.split('_')[-1])[0])\n",
      "\n",
      "def get_core_count_index(x):\n",
      "    return pd.Index([2 ** i for i in range(int(np.log2(get_core_count(x))) + 1)], name='cores')"
     ],
     "language": "python",
     "metadata": {},
     "outputs": []
    },
    {
     "cell_type": "code",
     "collapsed": false,
     "input": [
      "dfs = [reader(f) for f in result_files]\n",
      "dfs"
     ],
     "language": "python",
     "metadata": {},
     "outputs": []
    },
    {
     "cell_type": "code",
     "collapsed": false,
     "input": [
      "core_counts = [get_core_count_index(f) for f in result_files]\n",
      "core_counts"
     ],
     "language": "python",
     "metadata": {},
     "outputs": []
    },
    {
     "cell_type": "code",
     "collapsed": false,
     "input": [
      "names = [{32: 'Live Beef (32 cores)', 8: 'Mac \\'n Cheese (8 cores)'}[get_core_count(f)] for f in result_files]\n",
      "names"
     ],
     "language": "python",
     "metadata": {},
     "outputs": []
    },
    {
     "cell_type": "code",
     "collapsed": false,
     "input": [
      "for x, index, name in zip(dfs, core_counts, names):\n",
      "    x.index = index\n",
      "    x['name'] = name"
     ],
     "language": "python",
     "metadata": {},
     "outputs": []
    },
    {
     "cell_type": "code",
     "collapsed": false,
     "input": [
      "df = pd.concat(dfs).set_index('name', append=True)\n",
      "df.columns.names = ['grouper', 'reducer']\n",
      "df = df.T.stack().reorder_levels([2, 0, 1]).sort_index()\n",
      "df"
     ],
     "language": "python",
     "metadata": {},
     "outputs": []
    },
    {
     "cell_type": "code",
     "collapsed": false,
     "input": [
      "fig, axs = plt.subplots(1, 2, figsize=(30, 12), sharey=True)\n",
      "\n",
      "for i, (ax, (gk, gv)) in enumerate(zip(axs.flat, df.groupby(level='name'))):\n",
      "    gv.reset_index(level='name', drop=True).plot(kind='bar', ax=ax)\n",
      "\n",
      "    ax.tick_params(labelsize=20)\n",
      "    ax.set_xticklabels([x.get_text().strip('()').replace(',', ' ---') for x in ax.get_xticklabels()])\n",
      "    for xtl in ax.get_xticklabels():\n",
      "        xtl.set_color('white')\n",
      "    for ytl in ax.get_yticklabels():\n",
      "        ytl.set_color('white')\n",
      "    if not i:\n",
      "        ax.set_ylabel('Time in seconds', fontsize=30, color='white')\n",
      "    ax.set_xlabel('Grouper, Reducer', fontsize=30, color='white')\n",
      "    ax.set_title(ax.get_title(), color='white')\n",
      "    for t in ax.legend().get_texts():\n",
      "        t.set_color('white')\n",
      "        t.set_size(30)\n",
      "    ax.set_title(gk, fontsize=40)\n",
      "fig.autofmt_xdate()\n",
      "fig.tight_layout()\n",
      "fig.savefig('perfbar.png', bbox_inches='tight', transparent=True)"
     ],
     "language": "python",
     "metadata": {},
     "outputs": []
    }
   ],
   "metadata": {}
  }
 ]
}